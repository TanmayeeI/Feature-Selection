{
  "cells": [
    {
      "cell_type": "markdown",
      "metadata": {
        "id": "0T1hJtrVk9CX"
      },
      "source": [
        "# Missing Values Ratio"
      ]
    },
    {
      "cell_type": "code",
      "execution_count": null,
      "metadata": {
        "colab": {
          "base_uri": "https://localhost:8080/"
        },
        "id": "hQ8nSVN5HhNm",
        "outputId": "f3f94d8b-70aa-4b66-e416-eb1ad25ae1e3"
      },
      "outputs": [
        {
          "name": "stdout",
          "output_type": "stream",
          "text": [
            "Features removed due to missing values: Index([], dtype='object')\n",
            "Reduced dataset shape: (768, 9)\n"
          ]
        }
      ],
      "source": [
        "import pandas as pd\n",
        "from sklearn.model_selection import train_test_split\n",
        "from sklearn.ensemble import RandomForestClassifier\n",
        "from sklearn.feature_selection import SequentialFeatureSelector\n",
        "from sklearn.metrics import accuracy_score\n",
        "\n",
        "diabetes_data = pd.read_csv('diabetes.csv')\n",
        "\n",
        "# Check for missing values in the dataset\n",
        "missing_values_ratio = diabetes_data.isnull().mean() * 100\n",
        "\n",
        "# Remove features where missing values exceed 30%\n",
        "features_to_remove = missing_values_ratio[missing_values_ratio > 30].index\n",
        "reduced_data = diabetes_data.drop(columns=features_to_remove)\n",
        "\n",
        "print(f\"Features removed due to missing values: {features_to_remove}\")\n",
        "print(f\"Reduced dataset shape: {reduced_data.shape}\")"
      ]
    },
    {
      "cell_type": "markdown",
      "metadata": {
        "id": "K0_vtDU-leeU"
      },
      "source": [
        "## High Correlation Filter"
      ]
    },
    {
      "cell_type": "code",
      "execution_count": null,
      "metadata": {
        "id": "ZyYhfWWuQD7t"
      },
      "outputs": [],
      "source": [
        "# Calculate the correlation matrix\n",
        "correlation_matrix = diabetes_data.corr()\n",
        "\n",
        "# Find pairs of features with correlation > 0.8\n",
        "for feature in correlation_matrix.columns:\n",
        "    high_corr = correlation_matrix[feature][correlation_matrix[feature] > 0.8]\n",
        "\n",
        "    # Only show correlations between different features\n",
        "    high_corr = high_corr[high_corr.index != feature]\n",
        "    if not high_corr.empty:\n",
        "        print(f\"Highly correlated with {feature}:\\n{high_corr}\\n\")"
      ]
    },
    {
      "cell_type": "markdown",
      "metadata": {
        "id": "1XE0fSYplvNe"
      },
      "source": [
        "## Low Variance Filter"
      ]
    },
    {
      "cell_type": "code",
      "execution_count": null,
      "metadata": {
        "colab": {
          "base_uri": "https://localhost:8080/"
        },
        "id": "a2702CEeQG0W",
        "outputId": "5835b632-7631-4bae-eb03-3bf2cacd7be1"
      },
      "outputs": [
        {
          "name": "stdout",
          "output_type": "stream",
          "text": [
            "Features removed due to low variance: Index([], dtype='object')\n"
          ]
        }
      ],
      "source": [
        "# Calculate variance for each feature\n",
        "variance = diabetes_data.var()\n",
        "\n",
        "# Set a threshold for low variance\n",
        "threshold = 0.01\n",
        "\n",
        "# Remove features with variance below the threshold\n",
        "low_variance_features = variance[variance < threshold].index\n",
        "reduced_data = diabetes_data.drop(low_variance_features, axis=1)\n",
        "\n",
        "print(f\"Features removed due to low variance: {low_variance_features}\")\n"
      ]
    },
    {
      "cell_type": "markdown",
      "metadata": {
        "id": "RYXvLyuIl6U-"
      },
      "source": [
        "## Forward Feature Selection"
      ]
    },
    {
      "cell_type": "code",
      "execution_count": null,
      "metadata": {
        "colab": {
          "base_uri": "https://localhost:8080/"
        },
        "id": "J6NhX9cTQLZ7",
        "outputId": "1c46bf8c-64ee-4817-d584-86708499fbd7"
      },
      "outputs": [
        {
          "name": "stdout",
          "output_type": "stream",
          "text": [
            "Training dataset shape: (576, 8) (576,)\n",
            "Testing dataset shape: (192, 8) (192,)\n",
            "Selected features from forward selection: ['Pregnancies', 'Glucose', 'BloodPressure', 'Insulin', 'BMI', 'DiabetesPedigreeFunction', 'Age']\n",
            "Model accuracy with selected features (forward selection): 0.734375\n"
          ]
        }
      ],
      "source": [
        "# Prepare features (X) and target (y)\n",
        "X = df.iloc[:, :-1].values\n",
        "y = df.iloc[:, -1].values\n",
        "\n",
        "# Split data into training and testing set\n",
        "X_train, X_test, y_train, y_test = train_test_split(X, y, test_size=0.25, random_state=42)\n",
        "\n",
        "y_train = y_train.ravel()  # ravel(): returns flattened array\n",
        "y_test = y_test.ravel()\n",
        "\n",
        "print('Training dataset shape:', X_train.shape, y_train.shape)\n",
        "print('Testing dataset shape:', X_test.shape, y_test.shape)\n",
        "\n",
        "# Build Random Forest classifier to use in feature selection\n",
        "clf = RandomForestClassifier(n_estimators=100, n_jobs=-1, random_state=42)\n",
        "\n",
        "# Forward Feature Selection\n",
        "sfs_forward = SequentialFeatureSelector(clf,\n",
        "           n_features_to_select=7,  # feature selected can be changed\n",
        "           direction='forward',\n",
        "           scoring='accuracy',\n",
        "           cv=5)\n",
        "\n",
        "# Perform Forward Feature Selection\n",
        "sfs_forward.fit(X_train, y_train)\n",
        "\n",
        "# Get selected features\n",
        "selected_features_forward = sfs_forward.get_support(indices=True)\n",
        "print(f\"Selected features from forward selection: {df.columns[selected_features_forward].tolist()}\")\n",
        "\n",
        "# Train and evaluate the model using the selected features\n",
        "X_train_selected_forward = sfs_forward.transform(X_train)\n",
        "X_test_selected_forward = sfs_forward.transform(X_test)\n",
        "\n",
        "clf.fit(X_train_selected_forward, y_train)\n",
        "y_pred_forward = clf.predict(X_test_selected_forward)\n",
        "accuracy_forward = accuracy_score(y_test, y_pred_forward)\n",
        "print(f\"Model accuracy with selected features (forward selection): {accuracy_forward}\")\n"
      ]
    },
    {
      "cell_type": "markdown",
      "metadata": {
        "id": "i7fsZropmA4o"
      },
      "source": [
        "## Backward Feature Elimination"
      ]
    },
    {
      "cell_type": "code",
      "execution_count": null,
      "metadata": {
        "colab": {
          "base_uri": "https://localhost:8080/"
        },
        "id": "-KnhMQmNQMtl",
        "outputId": "e9796c6d-fe90-45ea-adb1-632c8f8cc8b5"
      },
      "outputs": [
        {
          "name": "stdout",
          "output_type": "stream",
          "text": [
            "Training dataset shape: (576, 8) (576,)\n",
            "Testing dataset shape: (192, 8) (192,)\n",
            "Selected features from backward selection: ['Pregnancies', 'Glucose', 'BloodPressure', 'Insulin', 'BMI', 'DiabetesPedigreeFunction', 'Age']\n",
            "Model accuracy with selected features (backward selection): 0.734375\n"
          ]
        }
      ],
      "source": [
        "# Prepare features (X) and target (y)\n",
        "X = df1.iloc[:, :-1].values\n",
        "y = df1.iloc[:, -1].values\n",
        "\n",
        "# Split data into training and testing set\n",
        "X_train, X_test, y_train, y_test = train_test_split(X, y, test_size=0.25, random_state=42)\n",
        "\n",
        "y_train = y_train.ravel()  # ravel(): returns a contiguous flattened array.\n",
        "y_test = y_test.ravel()\n",
        "\n",
        "print('Training dataset shape:', X_train.shape, y_train.shape)\n",
        "print('Testing dataset shape:', X_test.shape, y_test.shape)\n",
        "\n",
        "# Build Random Forest classifier to use in feature selection\n",
        "clf1 = RandomForestClassifier(n_estimators=100, n_jobs=-1, random_state=42)\n",
        "\n",
        "# Backward Feature Selection\n",
        "sfs_backward = SequentialFeatureSelector(clf1,\n",
        "           n_features_to_select=7,  # feature selected can be changed\n",
        "           direction='backward',\n",
        "           scoring='accuracy',\n",
        "           cv=5)\n",
        "\n",
        "# Perform Backward Feature Selection\n",
        "sfs_backward.fit(X_train, y_train)\n",
        "\n",
        "# Get selected features\n",
        "selected_features_backward = sfs_backward.get_support(indices=True)\n",
        "print(f\"Selected features from backward selection: {df.columns[selected_features_backward].tolist()}\")\n",
        "\n",
        "# Train and evaluate the model using the selected features\n",
        "X_train_selected_backward = sfs_backward.transform(X_train)\n",
        "X_test_selected_backward = sfs_backward.transform(X_test)\n",
        "\n",
        "clf1.fit(X_train_selected_backward, y_train)\n",
        "y_pred_backward = clf.predict(X_test_selected_backward)\n",
        "accuracy_backward = accuracy_score(y_test, y_pred_backward)\n",
        "print(f\"Model accuracy with selected features (backward selection): {accuracy_backward}\")"
      ]
    },
    {
      "cell_type": "markdown",
      "metadata": {
        "id": "JnQxrV0ymJOp"
      },
      "source": [
        "## Random Forest"
      ]
    },
    {
      "cell_type": "code",
      "execution_count": null,
      "metadata": {
        "colab": {
          "base_uri": "https://localhost:8080/"
        },
        "id": "UUkWSMvXQM4c",
        "outputId": "ad178d20-b080-486e-82aa-5b9fc030b105"
      },
      "outputs": [
        {
          "name": "stdout",
          "output_type": "stream",
          "text": [
            "Feature Importance Scores:\n",
            "                    Feature  Importance\n",
            "1                   Glucose    0.278761\n",
            "5                       BMI    0.158058\n",
            "7                       Age    0.139093\n",
            "6  DiabetesPedigreeFunction    0.118225\n",
            "2             BloodPressure    0.088883\n",
            "0               Pregnancies    0.074491\n",
            "3             SkinThickness    0.071575\n",
            "4                   Insulin    0.070913\n",
            "\n",
            "Top 5 important features: ['Glucose' 'BMI' 'Age' 'DiabetesPedigreeFunction' 'BloodPressure']\n",
            "\n",
            "Model accuracy with top 5 important features: 0.7395833333333334\n"
          ]
        }
      ],
      "source": [
        "# Prepare features (X) and target (y)\n",
        "X = df.iloc[:, :-1].values\n",
        "y = df.iloc[:, -1].values\n",
        "\n",
        "# Split data into training and testing set\n",
        "X_train, X_test, y_train, y_test = train_test_split(X, y, test_size=0.25, random_state=42)\n",
        "\n",
        "# Build Random Forest classifier\n",
        "clf = RandomForestClassifier(n_estimators=100, n_jobs=-1, random_state=42)\n",
        "\n",
        "# Fit the model on the training data\n",
        "clf.fit(X_train, y_train)\n",
        "\n",
        "# Get feature importance scores\n",
        "importances = clf.feature_importances_\n",
        "\n",
        "# Create a DataFrame to view features and their importance scores\n",
        "feature_importances = pd.DataFrame({\n",
        "    'Feature': df.columns[:-1],  # Exclude target variable\n",
        "    'Importance': importances\n",
        "})\n",
        "\n",
        "# Sort features by importance\n",
        "feature_importances = feature_importances.sort_values(by='Importance', ascending=False)\n",
        "\n",
        "# Print ranked features\n",
        "print(\"Feature Importance Scores:\")\n",
        "print(feature_importances)\n",
        "\n",
        "# Select top 5 most important features\n",
        "top_5_features = feature_importances.head(5)['Feature'].values\n",
        "print(f\"\\nTop 5 important features: {top_5_features}\")\n",
        "\n",
        "# Transform the dataset to keep only the top 5 features\n",
        "X_train_top5 = X_train[:, feature_importances.head(5).index]\n",
        "X_test_top5 = X_test[:, feature_importances.head(5).index]\n",
        "\n",
        "# Train and evaluate the model using top 5 features\n",
        "clf.fit(X_train_top5, y_train)\n",
        "y_pred_top5 = clf.predict(X_test_top5)\n",
        "accuracy_top5 = accuracy_score(y_test, y_pred_top5)\n",
        "\n",
        "print(f\"\\nModel accuracy with top 5 important features: {accuracy_top5}\")\n"
      ]
    }
  ],
  "metadata": {
    "colab": {
      "provenance": []
    },
    "kernelspec": {
      "display_name": "Python 3",
      "name": "python3"
    },
    "language_info": {
      "name": "python"
    }
  },
  "nbformat": 4,
  "nbformat_minor": 0
}
